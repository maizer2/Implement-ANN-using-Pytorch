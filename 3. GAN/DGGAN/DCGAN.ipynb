{
 "cells": [
  {
   "cell_type": "code",
   "execution_count": null,
   "metadata": {},
   "outputs": [],
   "source": [
    "# 파이썬 3코드를 2에서도 쓸 수 있도록 해준다.\n",
    "from __future__ import print_function\n",
    "# 인자값을 통해 실행할 수 있도록 한다.\n",
    "import argparse\n",
    "# Operating System의 약자\n",
    "# 운영체제와 상호작용을 도와준다.\n",
    "import os\n",
    "# 난수를 생성해주는 모듈이다.\n",
    "import random\n",
    "# ----------------------------------------\n",
    "# pytorch를 가져온다\n",
    "import torch\n",
    "# pytorch의 신경망 모듈의 집합\n",
    "import torch.nn as nn\n",
    "# gpu 병렬처리 모듈\n",
    "import torch.nn.parallel\n",
    "# torch.backends controls the behavior of various backends that PyTorch supports.\n",
    "# 그래픽 백엔드 모듈을 지원해줍니다.\n",
    "import torch.backends.cudnn as cudnn\n",
    "# 최적화 모듈\n",
    "import torch.optim as optim\n",
    "# DataLoader를 사용하기 위한 모듈\n",
    "import torch.utils.data\n",
    "import torchvision.datasets as dset\n",
    "import torchvision.transforms as transforms\n",
    "import torchvision.utils as vutils\n",
    "#---------------------------------------\n",
    "import numpy as np"
   ]
  }
 ],
 "metadata": {
  "kernelspec": {
   "display_name": "Python 3.10.4 ('DCGAN')",
   "language": "python",
   "name": "python3"
  },
  "language_info": {
   "codemirror_mode": {
    "name": "ipython",
    "version": 3
   },
   "file_extension": ".py",
   "mimetype": "text/x-python",
   "name": "python",
   "nbconvert_exporter": "python",
   "pygments_lexer": "ipython3",
   "version": "3.10.4"
  },
  "orig_nbformat": 4,
  "vscode": {
   "interpreter": {
    "hash": "f72c6314eea1653a59c4d598864b5b25faee3faba7d262d2b70488c604597778"
   }
  }
 },
 "nbformat": 4,
 "nbformat_minor": 2
}

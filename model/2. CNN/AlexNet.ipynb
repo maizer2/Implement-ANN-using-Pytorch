{
 "cells": [
  {
   "cell_type": "code",
   "execution_count": null,
   "metadata": {},
   "outputs": [],
   "source": [
    "import torch\n",
    "import torch.nn as nn\n",
    "\n",
    "import torchvision"
   ]
  },
  {
   "cell_type": "code",
   "execution_count": null,
   "metadata": {},
   "outputs": [],
   "source": [
    "class conv(nn.Module):\n",
    "    def __init__(self, in_channels: int, out_channels: int, kernel_size: int = 4, stride: int = 1, padding: int = 1, normalize: bool = True, activate: bool = True, dropout: float = 0.0):\n",
    "        super(conv, self).__init__()\n",
    "            \n",
    "        layers = [\n",
    "            nn.Conv2d(\n",
    "                in_channels=in_channels,\n",
    "                out_channels=out_channels,\n",
    "                kernel_size=kernel_size,\n",
    "                stride=stride,\n",
    "                padding=padding\n",
    "            )\n",
    "        ]\n",
    "\n",
    "        if normalize:\n",
    "            layers.append(\n",
    "                nn.\n",
    "            )\n",
    "        \n",
    "class AlexNet(nn.Module):\n",
    "    def __init__(self, in_channels: int = 3, out_channels: int = 256, out_features: int = 2):\n",
    "        super(AlexNet, self).__init__()\n",
    "        \n",
    "        self.layer1 = nn.Sequential(\n",
    "            conv(\n",
    "                in_channels=in_channels,\n",
    "                out_channels=64\n",
    "            )\n",
    "        )\n",
    "    def forward(self, x):\n",
    "        return self.model(x)"
   ]
  }
 ],
 "metadata": {
  "kernelspec": {
   "display_name": "Python 3.8.10 64-bit",
   "language": "python",
   "name": "python3"
  },
  "language_info": {
   "name": "python",
   "version": "3.8.10"
  },
  "orig_nbformat": 4,
  "vscode": {
   "interpreter": {
    "hash": "916dbcbb3f70747c44a77c7bcd40155683ae19c65e1c03b4aa3499c5328201f1"
   }
  }
 },
 "nbformat": 4,
 "nbformat_minor": 2
}

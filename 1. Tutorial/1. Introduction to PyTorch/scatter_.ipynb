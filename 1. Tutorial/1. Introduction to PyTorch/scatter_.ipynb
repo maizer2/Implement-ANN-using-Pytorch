{
 "cells": [
  {
   "cell_type": "code",
   "execution_count": 2,
   "metadata": {},
   "outputs": [],
   "source": [
    "import torch"
   ]
  },
  {
   "cell_type": "code",
   "execution_count": 3,
   "metadata": {},
   "outputs": [
    {
     "name": "stdout",
     "output_type": "stream",
     "text": [
      "Fri Jul 22 12:39:44 2022       \n",
      "+-----------------------------------------------------------------------------+\n",
      "| NVIDIA-SMI 515.57       Driver Version: 515.57       CUDA Version: 11.7     |\n",
      "|-------------------------------+----------------------+----------------------+\n",
      "| GPU  Name        Persistence-M| Bus-Id        Disp.A | Volatile Uncorr. ECC |\n",
      "| Fan  Temp  Perf  Pwr:Usage/Cap|         Memory-Usage | GPU-Util  Compute M. |\n",
      "|                               |                      |               MIG M. |\n",
      "|===============================+======================+======================|\n",
      "|   0  NVIDIA RTX A6000    Off  | 00000000:41:00.0 Off |                  Off |\n",
      "| 33%   62C    P2    94W / 300W |   1819MiB / 49140MiB |     17%      Default |\n",
      "|                               |                      |                  N/A |\n",
      "+-------------------------------+----------------------+----------------------+\n",
      "                                                                               \n",
      "+-----------------------------------------------------------------------------+\n",
      "| Processes:                                                                  |\n",
      "|  GPU   GI   CI        PID   Type   Process name                  GPU Memory |\n",
      "|        ID   ID                                                   Usage      |\n",
      "|=============================================================================|\n",
      "+-----------------------------------------------------------------------------+\n"
     ]
    }
   ],
   "source": [
    "!nvidia-smi"
   ]
  },
  {
   "cell_type": "code",
   "execution_count": 101,
   "metadata": {},
   "outputs": [
    {
     "name": "stdout",
     "output_type": "stream",
     "text": [
      "<class 'torch.Size'>\n"
     ]
    }
   ],
   "source": [
    "a = torch.arange(1, 11).reshape((5, -1))\n",
    "\n",
    "print(type(a.size()))"
   ]
  },
  {
   "cell_type": "code",
   "execution_count": 111,
   "metadata": {},
   "outputs": [
    {
     "name": "stdout",
     "output_type": "stream",
     "text": [
      "Dimension : torch.Size([5, 20])\n",
      "Tensor[0] : 1  2  3  4  5  6  7  8  9  10  11  12  13  14  15  16  17  18  19  20  \n",
      "Tensor[1] : 21  22  23  24  25  26  27  28  29  30  31  32  33  34  35  36  37  38  39  40  \n",
      "Tensor[2] : 41  42  43  44  45  46  47  48  49  50  51  52  53  54  55  56  57  58  59  60  \n",
      "Tensor[3] : 61  62  63  64  65  66  67  68  69  70  71  72  73  74  75  76  77  78  79  80  \n",
      "Tensor[4] : 81  82  83  84  85  86  87  88  89  90  91  92  93  94  95  96  97  98  99  100  \n"
     ]
    }
   ],
   "source": [
    "a = torch.arange(1, 11).reshape((2, -1))\n",
    "b = torch.arange(1, 13).reshape((3, -1))\n",
    "c = torch.arange(1, 100 + 1).reshape((5, -1))\n",
    "\n",
    "tensor = c\n",
    "print(f\"Dimension : {tensor.size()}\")\n",
    "for i in range(tensor.size(0)):\n",
    "    print(f\"Tensor[{i}] : \", end='')\n",
    "\n",
    "    for j in range(tensor.size(1)):\n",
    "        print(f\"{tensor[i][j]}  \", end='')\n",
    "\n",
    "    print()\n"
   ]
  },
  {
   "cell_type": "code",
   "execution_count": 141,
   "metadata": {},
   "outputs": [
    {
     "name": "stdout",
     "output_type": "stream",
     "text": [
      "Dimension :torch.Size([10, 2, 5])\n",
      "image : 0\n",
      "Tensor[0][0] : 1 2 3 4 5 \n",
      "Tensor[0][1] : 6 7 8 9 10 \n",
      "image : 1\n",
      "Tensor[1][0] : 11 12 13 14 15 \n",
      "Tensor[1][1] : 16 17 18 19 20 \n",
      "image : 2\n",
      "Tensor[2][0] : 21 22 23 24 25 \n",
      "Tensor[2][1] : 26 27 28 29 30 \n",
      "image : 3\n",
      "Tensor[3][0] : 31 32 33 34 35 \n",
      "Tensor[3][1] : 36 37 38 39 40 \n",
      "image : 4\n",
      "Tensor[4][0] : 41 42 43 44 45 \n",
      "Tensor[4][1] : 46 47 48 49 50 \n",
      "image : 5\n",
      "Tensor[5][0] : 51 52 53 54 55 \n",
      "Tensor[5][1] : 56 57 58 59 60 \n",
      "image : 6\n",
      "Tensor[6][0] : 61 62 63 64 65 \n",
      "Tensor[6][1] : 66 67 68 69 70 \n",
      "image : 7\n",
      "Tensor[7][0] : 71 72 73 74 75 \n",
      "Tensor[7][1] : 76 77 78 79 80 \n",
      "image : 8\n",
      "Tensor[8][0] : 81 82 83 84 85 \n",
      "Tensor[8][1] : 86 87 88 89 90 \n",
      "image : 9\n",
      "Tensor[9][0] : 91 92 93 94 95 \n",
      "Tensor[9][1] : 96 97 98 99 100 \n"
     ]
    }
   ],
   "source": [
    "d = torch.arange(1, 25).reshape((3, 2, -1))\n",
    "e = torch.arange(1, 101).reshape((10, 2, -1))\n",
    "\n",
    "tensor = e\n",
    "print(f\"Dimension :{tensor.size()}\")\n",
    "for i in range(tensor.size(0)):\n",
    "    print(f\"image : {i}\")\n",
    "\n",
    "    for j in range(tensor.size(1)):\n",
    "        print(f\"Tensor[{i}][{j}] : \", end='')\n",
    "\n",
    "        for k in range(tensor.size(2)):\n",
    "            print(f\"{tensor[i][j][k]} \", end='')\n",
    "            # print(tensor[i][j][k].item(),\", \", end='')\n",
    "        print()"
   ]
  },
  {
   "cell_type": "code",
   "execution_count": 143,
   "metadata": {},
   "outputs": [
    {
     "name": "stdout",
     "output_type": "stream",
     "text": [
      "tensor([[ 1,  2,  3,  4,  5],\n",
      "        [ 6,  7,  8,  9, 10]]) \n",
      "\n",
      "tensor([[0, 1, 2, 0]]) \n",
      "\n"
     ]
    },
    {
     "data": {
      "text/plain": [
       "tensor([[1, 0, 0, 4, 0],\n",
       "        [0, 2, 0, 0, 0],\n",
       "        [0, 0, 3, 0, 0]])"
      ]
     },
     "execution_count": 143,
     "metadata": {},
     "output_type": "execute_result"
    }
   ],
   "source": [
    "#tensor([[ 1,  2,  3,  4,  5],\n",
    "#        [ 6,  7,  8,  9, 10]])\n",
    "src = torch.arange(1, 11).reshape((2, 5))\n",
    "print(src,\"\\n\")\n",
    "\n",
    "#tensor([[0, 1, 2, 0]])\n",
    "index = torch.tensor([[0, 1, 2, 0]])\n",
    "print(index, \"\\n\")\n",
    "\n",
    "\n",
    "torch.zeros(3, 5, dtype=src.dtype).scatter_(0, index, src)"
   ]
  },
  {
   "cell_type": "code",
   "execution_count": 32,
   "metadata": {},
   "outputs": [
    {
     "data": {
      "text/plain": [
       "tensor([[2, 2, 2, 2],\n",
       "        [2, 2, 2, 2]])"
      ]
     },
     "execution_count": 32,
     "metadata": {},
     "output_type": "execute_result"
    }
   ],
   "source": [
    "# torch.Tensor.scatter_(dim, index, src, reduce)\n",
    "torch.full((2, 4), 2).scatter_(1, torch.tensor([[2], [3]]), 1.23, reduce='multiply')\n"
   ]
  },
  {
   "cell_type": "code",
   "execution_count": null,
   "metadata": {},
   "outputs": [],
   "source": [
    "torch.full((2, 4), 2.).scatter_(1, torch.tensor([[2], [3]]), 1.23, reduce='add')"
   ]
  }
 ],
 "metadata": {
  "kernelspec": {
   "display_name": "Python 3.9.13 64-bit",
   "language": "python",
   "name": "python3"
  },
  "language_info": {
   "codemirror_mode": {
    "name": "ipython",
    "version": 3
   },
   "file_extension": ".py",
   "mimetype": "text/x-python",
   "name": "python",
   "nbconvert_exporter": "python",
   "pygments_lexer": "ipython3",
   "version": "3.9.13"
  },
  "orig_nbformat": 4,
  "vscode": {
   "interpreter": {
    "hash": "f9f85f796d01129d0dd105a088854619f454435301f6ffec2fea96ecbd9be4ac"
   }
  }
 },
 "nbformat": 4,
 "nbformat_minor": 2
}

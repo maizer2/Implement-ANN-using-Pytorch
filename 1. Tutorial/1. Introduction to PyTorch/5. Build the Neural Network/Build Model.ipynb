{
 "cells": [
  {
   "cell_type": "code",
   "execution_count": 93,
   "metadata": {},
   "outputs": [],
   "source": [
    "import os\n",
    "import torch\n",
    "from torch import nn\n",
    "from torch.utils.data import DataLoader\n",
    "from torchvision import datasets, transforms"
   ]
  },
  {
   "cell_type": "code",
   "execution_count": 94,
   "metadata": {},
   "outputs": [
    {
     "name": "stdout",
     "output_type": "stream",
     "text": [
      "Using cpu device\n"
     ]
    }
   ],
   "source": [
    "device = \"cuda\" if torch.cuda.is_available() else \"cpu\"\n",
    "print(f\"Using {device} device\")"
   ]
  },
  {
   "cell_type": "code",
   "execution_count": 95,
   "metadata": {},
   "outputs": [],
   "source": [
    "class NN(nn.Module):\n",
    "    def __init__(self):\n",
    "        super(NN, self).__init__()\n",
    "        self.flatten = nn.Flatten()\n",
    "        self.linear_relu_stack = nn.Sequential(\n",
    "            nn.Linear(28*28, 512, bias=False),\n",
    "            nn.ReLU(),\n",
    "            nn.Linear(512, 512, bias=False),\n",
    "            nn.ReLU(),\n",
    "            nn.Linear(512, 10, bias=False)\n",
    "        )\n",
    "\n",
    "    def forward(self, x):\n",
    "        x = self.flatten(x)\n",
    "        logits = self.linear_relu_stack(x)\n",
    "        return logits"
   ]
  },
  {
   "cell_type": "code",
   "execution_count": 96,
   "metadata": {},
   "outputs": [
    {
     "name": "stdout",
     "output_type": "stream",
     "text": [
      "NN(\n",
      "  (flatten): Flatten(start_dim=1, end_dim=-1)\n",
      "  (linear_relu_stack): Sequential(\n",
      "    (0): Linear(in_features=784, out_features=512, bias=False)\n",
      "    (1): ReLU()\n",
      "    (2): Linear(in_features=512, out_features=512, bias=False)\n",
      "    (3): ReLU()\n",
      "    (4): Linear(in_features=512, out_features=10, bias=False)\n",
      "  )\n",
      ")\n"
     ]
    }
   ],
   "source": [
    "model = NN().to(device)\n",
    "print(model)"
   ]
  },
  {
   "cell_type": "code",
   "execution_count": 97,
   "metadata": {},
   "outputs": [],
   "source": [
    "import matplotlib.pyplot as plt"
   ]
  },
  {
   "cell_type": "code",
   "execution_count": 98,
   "metadata": {},
   "outputs": [
    {
     "data": {
      "text/plain": [
       "<matplotlib.image.AxesImage at 0x28997a1c0>"
      ]
     },
     "execution_count": 98,
     "metadata": {},
     "output_type": "execute_result"
    },
    {
     "data": {
      "image/png": "[encoded data removed]",
      "text/plain": [
       "<Figure size 432x288 with 1 Axes>"
      ]
     },
     "metadata": {
      "needs_background": "light"
     },
     "output_type": "display_data"
    }
   ],
   "source": [
    "X = torch.rand(28, 28, device=device)\n",
    "\n",
    "# resize 3D -> 2D\n",
    "# X.resize()\n",
    "\n",
    "plt.imshow(X)"
   ]
  },
  {
   "cell_type": "markdown",
   "metadata": {},
   "source": [
    "applies a linear transformation\n",
    "\n",
    "$y=xA^{T}+b$"
   ]
  },
  {
   "cell_type": "code",
   "execution_count": null,
   "metadata": {},
   "outputs": [],
   "source": [
    "class A:\n",
    "    def __init__(self, a, b):\n",
    "        self.a = a\n",
    "        self.b = b\n",
    "        print(\"Class A is be generate\")\n",
    "\n",
    "class B(A):\n",
    "    def __init__(self):\n",
    "        super(B, self).__init__()"
   ]
  },
  {
   "cell_type": "code",
   "execution_count": 100,
   "metadata": {},
   "outputs": [
    {
     "ename": "NameError",
     "evalue": "name 'Input' is not defined",
     "output_type": "error",
     "traceback": [
      "\u001b[0;31m---------------------------------------------------------------------------\u001b[0m",
      "\u001b[0;31mNameError\u001b[0m                                 Traceback (most recent call last)",
      "\u001b[1;32m/Users/maizer/1. Dev/3. Git/GitHub/python/Implement-ANN-using-Pytorch/1. Tutorial/1. Basic_torch/LEARN-THE-BASICS/4. Build Model/Build Model.ipynb 셀 8\u001b[0m in \u001b[0;36m<cell line: 1>\u001b[0;34m()\u001b[0m\n\u001b[0;32m----> <a href='vscode-notebook-cell:/Users/maizer/1.%20Dev/3.%20Git/GitHub/python/Implement-ANN-using-Pytorch/1.%20Tutorial/1.%20Basic_torch/LEARN-THE-BASICS/4.%20Build%20Model/Build%20Model.ipynb#ch0000011?line=0'>1</a>\u001b[0m \u001b[39mclass\u001b[39;00m \u001b[39mTNN\u001b[39;00m(nn\u001b[39m.\u001b[39mModule, Input, Output, Final):\n\u001b[1;32m      <a href='vscode-notebook-cell:/Users/maizer/1.%20Dev/3.%20Git/GitHub/python/Implement-ANN-using-Pytorch/1.%20Tutorial/1.%20Basic_torch/LEARN-THE-BASICS/4.%20Build%20Model/Build%20Model.ipynb#ch0000011?line=1'>2</a>\u001b[0m     \u001b[39mdef\u001b[39;00m \u001b[39m__init__\u001b[39m(\u001b[39mself\u001b[39m):\n\u001b[1;32m      <a href='vscode-notebook-cell:/Users/maizer/1.%20Dev/3.%20Git/GitHub/python/Implement-ANN-using-Pytorch/1.%20Tutorial/1.%20Basic_torch/LEARN-THE-BASICS/4.%20Build%20Model/Build%20Model.ipynb#ch0000011?line=2'>3</a>\u001b[0m         \u001b[39msuper\u001b[39m(TNN, \u001b[39mself\u001b[39m)\u001b[39m.\u001b[39m\u001b[39m__init__\u001b[39m()\n",
      "\u001b[0;31mNameError\u001b[0m: name 'Input' is not defined"
     ]
    }
   ],
   "source": [
    "class TNN(nn.Module):\n",
    "    def __init__(self, Input, Output, Final):\n",
    "        super(TNN, self).__init__()\n",
    "\n",
    "        self.I = Input\n",
    "        self.O = Output\n",
    "        self.F = Final\n",
    "\n",
    "        self.flatten = nn.Flatten()\n",
    "        # self.linear_relu_stack = nn.Sequential(\n",
    "        #     # 28*28=784 -> 512\n",
    "        #     # nn.Linear(28*28, 512, bias=False),\n",
    "        #     nn.Linear(self.I*self.I, self.O, bias=False),\n",
    "        #     nn.ReLU(),\n",
    "        #     nn.Linear(self.O, self.O, bias=False),\n",
    "        #     nn.ReLU(),\n",
    "        #     nn.Linear(self.O, self.F, bias=False)\n",
    "        # )\n",
    "        self.linear1 = nn.Linear(self.I * self.I, self.O, bias=False)\n",
    "        self.linear2 = nn.Linear(self.O, self.O, bias=False)\n",
    "        self.linear3 = nn.Linear(self.O, self.F, bias=False)\n",
    "        self.ReLU = nn.ReLU()\n",
    "    \n",
    "    def forward(self, x):\n",
    "        print(f\"input image size : {x.size()}\")\n",
    "        x = self.flatten(x)\n",
    "        print(f\"flatten image size : {x.size()}\")\n",
    "        logits = self.linear_relu_stack(x)\n",
    "        print(f\"logits size : {logits.size()}\")\n",
    "        print(f\"logits : {logits}\")"
   ]
  },
  {
   "cell_type": "code",
   "execution_count": null,
   "metadata": {},
   "outputs": [],
   "source": []
  },
  {
   "cell_type": "code",
   "execution_count": null,
   "metadata": {},
   "outputs": [],
   "source": []
  },
  {
   "cell_type": "code",
   "execution_count": null,
   "metadata": {},
   "outputs": [
    {
     "name": "stdout",
     "output_type": "stream",
     "text": [
      "input image size : torch.Size([28, 28])\n",
      "\n",
      "flatten image size : torch.Size([28, 28])\n"
     ]
    },
    {
     "ename": "RuntimeError",
     "evalue": "mat1 and mat2 shapes cannot be multiplied (28x28 and 784x512)",
     "output_type": "error",
     "traceback": [
      "\u001b[0;31m---------------------------------------------------------------------------\u001b[0m",
      "\u001b[0;31mRuntimeError\u001b[0m                              Traceback (most recent call last)",
      "\u001b[1;32m/Users/maizer/1. Dev/3. Git/GitHub/python/Implement-ANN-using-Pytorch/1. Tutorial/1. Basic_torch/LEARN-THE-BASICS/4. Build Model/Build Model.ipynb 셀 9\u001b[0m in \u001b[0;36m<cell line: 1>\u001b[0;34m()\u001b[0m\n\u001b[0;32m----> <a href='vscode-notebook-cell:/Users/maizer/1.%20Dev/3.%20Git/GitHub/python/Implement-ANN-using-Pytorch/1.%20Tutorial/1.%20Basic_torch/LEARN-THE-BASICS/4.%20Build%20Model/Build%20Model.ipynb#ch0000016?line=0'>1</a>\u001b[0m model \u001b[39m=\u001b[39m TNN()\u001b[39m.\u001b[39;49mto(device)(X)\n",
      "File \u001b[0;32m/opt/homebrew/Caskroom/miniconda/base/envs/pytorch/lib/python3.8/site-packages/torch/nn/modules/module.py:1130\u001b[0m, in \u001b[0;36mModule._call_impl\u001b[0;34m(self, *input, **kwargs)\u001b[0m\n\u001b[1;32m   1126\u001b[0m \u001b[39m# If we don't have any hooks, we want to skip the rest of the logic in\u001b[39;00m\n\u001b[1;32m   1127\u001b[0m \u001b[39m# this function, and just call forward.\u001b[39;00m\n\u001b[1;32m   1128\u001b[0m \u001b[39mif\u001b[39;00m \u001b[39mnot\u001b[39;00m (\u001b[39mself\u001b[39m\u001b[39m.\u001b[39m_backward_hooks \u001b[39mor\u001b[39;00m \u001b[39mself\u001b[39m\u001b[39m.\u001b[39m_forward_hooks \u001b[39mor\u001b[39;00m \u001b[39mself\u001b[39m\u001b[39m.\u001b[39m_forward_pre_hooks \u001b[39mor\u001b[39;00m _global_backward_hooks\n\u001b[1;32m   1129\u001b[0m         \u001b[39mor\u001b[39;00m _global_forward_hooks \u001b[39mor\u001b[39;00m _global_forward_pre_hooks):\n\u001b[0;32m-> 1130\u001b[0m     \u001b[39mreturn\u001b[39;00m forward_call(\u001b[39m*\u001b[39;49m\u001b[39minput\u001b[39;49m, \u001b[39m*\u001b[39;49m\u001b[39m*\u001b[39;49mkwargs)\n\u001b[1;32m   1131\u001b[0m \u001b[39m# Do not call functions when jit is used\u001b[39;00m\n\u001b[1;32m   1132\u001b[0m full_backward_hooks, non_full_backward_hooks \u001b[39m=\u001b[39m [], []\n",
      "\u001b[1;32m/Users/maizer/1. Dev/3. Git/GitHub/python/Implement-ANN-using-Pytorch/1. Tutorial/1. Basic_torch/LEARN-THE-BASICS/4. Build Model/Build Model.ipynb 셀 9\u001b[0m in \u001b[0;36mTNN.forward\u001b[0;34m(self, x)\u001b[0m\n\u001b[1;32m     <a href='vscode-notebook-cell:/Users/maizer/1.%20Dev/3.%20Git/GitHub/python/Implement-ANN-using-Pytorch/1.%20Tutorial/1.%20Basic_torch/LEARN-THE-BASICS/4.%20Build%20Model/Build%20Model.ipynb#ch0000016?line=13'>14</a>\u001b[0m x \u001b[39m=\u001b[39m \u001b[39mself\u001b[39m\u001b[39m.\u001b[39mflatten(x)\n\u001b[1;32m     <a href='vscode-notebook-cell:/Users/maizer/1.%20Dev/3.%20Git/GitHub/python/Implement-ANN-using-Pytorch/1.%20Tutorial/1.%20Basic_torch/LEARN-THE-BASICS/4.%20Build%20Model/Build%20Model.ipynb#ch0000016?line=14'>15</a>\u001b[0m \u001b[39mprint\u001b[39m(\u001b[39mf\u001b[39m\u001b[39m\"\u001b[39m\u001b[39mflatten image size : \u001b[39m\u001b[39m{\u001b[39;00mx\u001b[39m.\u001b[39msize()\u001b[39m}\u001b[39;00m\u001b[39m\"\u001b[39m)\n\u001b[0;32m---> <a href='vscode-notebook-cell:/Users/maizer/1.%20Dev/3.%20Git/GitHub/python/Implement-ANN-using-Pytorch/1.%20Tutorial/1.%20Basic_torch/LEARN-THE-BASICS/4.%20Build%20Model/Build%20Model.ipynb#ch0000016?line=15'>16</a>\u001b[0m logits \u001b[39m=\u001b[39m \u001b[39mself\u001b[39;49m\u001b[39m.\u001b[39;49mlinear_relu_stack(x)\n\u001b[1;32m     <a href='vscode-notebook-cell:/Users/maizer/1.%20Dev/3.%20Git/GitHub/python/Implement-ANN-using-Pytorch/1.%20Tutorial/1.%20Basic_torch/LEARN-THE-BASICS/4.%20Build%20Model/Build%20Model.ipynb#ch0000016?line=16'>17</a>\u001b[0m \u001b[39mprint\u001b[39m(\u001b[39mf\u001b[39m\u001b[39m\"\u001b[39m\u001b[39mlogits size : \u001b[39m\u001b[39m{\u001b[39;00mlogits\u001b[39m.\u001b[39msize()\u001b[39m}\u001b[39;00m\u001b[39m\"\u001b[39m)\n\u001b[1;32m     <a href='vscode-notebook-cell:/Users/maizer/1.%20Dev/3.%20Git/GitHub/python/Implement-ANN-using-Pytorch/1.%20Tutorial/1.%20Basic_torch/LEARN-THE-BASICS/4.%20Build%20Model/Build%20Model.ipynb#ch0000016?line=17'>18</a>\u001b[0m \u001b[39mprint\u001b[39m(\u001b[39mf\u001b[39m\u001b[39m\"\u001b[39m\u001b[39mlogits : \u001b[39m\u001b[39m{\u001b[39;00mlogits\u001b[39m}\u001b[39;00m\u001b[39m\"\u001b[39m)\n",
      "File \u001b[0;32m/opt/homebrew/Caskroom/miniconda/base/envs/pytorch/lib/python3.8/site-packages/torch/nn/modules/module.py:1130\u001b[0m, in \u001b[0;36mModule._call_impl\u001b[0;34m(self, *input, **kwargs)\u001b[0m\n\u001b[1;32m   1126\u001b[0m \u001b[39m# If we don't have any hooks, we want to skip the rest of the logic in\u001b[39;00m\n\u001b[1;32m   1127\u001b[0m \u001b[39m# this function, and just call forward.\u001b[39;00m\n\u001b[1;32m   1128\u001b[0m \u001b[39mif\u001b[39;00m \u001b[39mnot\u001b[39;00m (\u001b[39mself\u001b[39m\u001b[39m.\u001b[39m_backward_hooks \u001b[39mor\u001b[39;00m \u001b[39mself\u001b[39m\u001b[39m.\u001b[39m_forward_hooks \u001b[39mor\u001b[39;00m \u001b[39mself\u001b[39m\u001b[39m.\u001b[39m_forward_pre_hooks \u001b[39mor\u001b[39;00m _global_backward_hooks\n\u001b[1;32m   1129\u001b[0m         \u001b[39mor\u001b[39;00m _global_forward_hooks \u001b[39mor\u001b[39;00m _global_forward_pre_hooks):\n\u001b[0;32m-> 1130\u001b[0m     \u001b[39mreturn\u001b[39;00m forward_call(\u001b[39m*\u001b[39;49m\u001b[39minput\u001b[39;49m, \u001b[39m*\u001b[39;49m\u001b[39m*\u001b[39;49mkwargs)\n\u001b[1;32m   1131\u001b[0m \u001b[39m# Do not call functions when jit is used\u001b[39;00m\n\u001b[1;32m   1132\u001b[0m full_backward_hooks, non_full_backward_hooks \u001b[39m=\u001b[39m [], []\n",
      "File \u001b[0;32m/opt/homebrew/Caskroom/miniconda/base/envs/pytorch/lib/python3.8/site-packages/torch/nn/modules/container.py:139\u001b[0m, in \u001b[0;36mSequential.forward\u001b[0;34m(self, input)\u001b[0m\n\u001b[1;32m    137\u001b[0m \u001b[39mdef\u001b[39;00m \u001b[39mforward\u001b[39m(\u001b[39mself\u001b[39m, \u001b[39minput\u001b[39m):\n\u001b[1;32m    138\u001b[0m     \u001b[39mfor\u001b[39;00m module \u001b[39min\u001b[39;00m \u001b[39mself\u001b[39m:\n\u001b[0;32m--> 139\u001b[0m         \u001b[39minput\u001b[39m \u001b[39m=\u001b[39m module(\u001b[39minput\u001b[39;49m)\n\u001b[1;32m    140\u001b[0m     \u001b[39mreturn\u001b[39;00m \u001b[39minput\u001b[39m\n",
      "File \u001b[0;32m/opt/homebrew/Caskroom/miniconda/base/envs/pytorch/lib/python3.8/site-packages/torch/nn/modules/module.py:1130\u001b[0m, in \u001b[0;36mModule._call_impl\u001b[0;34m(self, *input, **kwargs)\u001b[0m\n\u001b[1;32m   1126\u001b[0m \u001b[39m# If we don't have any hooks, we want to skip the rest of the logic in\u001b[39;00m\n\u001b[1;32m   1127\u001b[0m \u001b[39m# this function, and just call forward.\u001b[39;00m\n\u001b[1;32m   1128\u001b[0m \u001b[39mif\u001b[39;00m \u001b[39mnot\u001b[39;00m (\u001b[39mself\u001b[39m\u001b[39m.\u001b[39m_backward_hooks \u001b[39mor\u001b[39;00m \u001b[39mself\u001b[39m\u001b[39m.\u001b[39m_forward_hooks \u001b[39mor\u001b[39;00m \u001b[39mself\u001b[39m\u001b[39m.\u001b[39m_forward_pre_hooks \u001b[39mor\u001b[39;00m _global_backward_hooks\n\u001b[1;32m   1129\u001b[0m         \u001b[39mor\u001b[39;00m _global_forward_hooks \u001b[39mor\u001b[39;00m _global_forward_pre_hooks):\n\u001b[0;32m-> 1130\u001b[0m     \u001b[39mreturn\u001b[39;00m forward_call(\u001b[39m*\u001b[39;49m\u001b[39minput\u001b[39;49m, \u001b[39m*\u001b[39;49m\u001b[39m*\u001b[39;49mkwargs)\n\u001b[1;32m   1131\u001b[0m \u001b[39m# Do not call functions when jit is used\u001b[39;00m\n\u001b[1;32m   1132\u001b[0m full_backward_hooks, non_full_backward_hooks \u001b[39m=\u001b[39m [], []\n",
      "File \u001b[0;32m/opt/homebrew/Caskroom/miniconda/base/envs/pytorch/lib/python3.8/site-packages/torch/nn/modules/linear.py:114\u001b[0m, in \u001b[0;36mLinear.forward\u001b[0;34m(self, input)\u001b[0m\n\u001b[1;32m    113\u001b[0m \u001b[39mdef\u001b[39;00m \u001b[39mforward\u001b[39m(\u001b[39mself\u001b[39m, \u001b[39minput\u001b[39m: Tensor) \u001b[39m-\u001b[39m\u001b[39m>\u001b[39m Tensor:\n\u001b[0;32m--> 114\u001b[0m     \u001b[39mreturn\u001b[39;00m F\u001b[39m.\u001b[39;49mlinear(\u001b[39minput\u001b[39;49m, \u001b[39mself\u001b[39;49m\u001b[39m.\u001b[39;49mweight, \u001b[39mself\u001b[39;49m\u001b[39m.\u001b[39;49mbias)\n",
      "\u001b[0;31mRuntimeError\u001b[0m: mat1 and mat2 shapes cannot be multiplied (28x28 and 784x512)"
     ]
    }
   ],
   "source": [
    "model = TNN().to(device)(X)"
   ]
  },
  {
   "cell_type": "code",
   "execution_count": null,
   "metadata": {},
   "outputs": [
    {
     "name": "stdout",
     "output_type": "stream",
     "text": [
      "input image ndim : 2\n",
      "\n"
     ]
    },
    {
     "ename": "TypeError",
     "evalue": "'NoneType' object is not callable",
     "output_type": "error",
     "traceback": [
      "\u001b[0;31m---------------------------------------------------------------------------\u001b[0m",
      "\u001b[0;31mTypeError\u001b[0m                                 Traceback (most recent call last)",
      "\u001b[1;32m/Users/maizer/1. Dev/3. Git/GitHub/python/Implement-ANN-using-Pytorch/1. Tutorial/1. Basic_torch/LEARN-THE-BASICS/4. Build Model/Build Model.ipynb 셀 8\u001b[0m in \u001b[0;36m<cell line: 3>\u001b[0;34m()\u001b[0m\n\u001b[1;32m      <a href='vscode-notebook-cell:/Users/maizer/1.%20Dev/3.%20Git/GitHub/python/Implement-ANN-using-Pytorch/1.%20Tutorial/1.%20Basic_torch/LEARN-THE-BASICS/4.%20Build%20Model/Build%20Model.ipynb#ch0000005?line=0'>1</a>\u001b[0m model \u001b[39m=\u001b[39m TNN()\u001b[39m.\u001b[39mto(device)(X)\n\u001b[1;32m      <a href='vscode-notebook-cell:/Users/maizer/1.%20Dev/3.%20Git/GitHub/python/Implement-ANN-using-Pytorch/1.%20Tutorial/1.%20Basic_torch/LEARN-THE-BASICS/4.%20Build%20Model/Build%20Model.ipynb#ch0000005?line=1'>2</a>\u001b[0m X \u001b[39m=\u001b[39m torch\u001b[39m.\u001b[39mrand(\u001b[39m1\u001b[39m, \u001b[39m28\u001b[39m, \u001b[39m28\u001b[39m, device\u001b[39m=\u001b[39mdevice)\n\u001b[0;32m----> <a href='vscode-notebook-cell:/Users/maizer/1.%20Dev/3.%20Git/GitHub/python/Implement-ANN-using-Pytorch/1.%20Tutorial/1.%20Basic_torch/LEARN-THE-BASICS/4.%20Build%20Model/Build%20Model.ipynb#ch0000005?line=2'>3</a>\u001b[0m logits \u001b[39m=\u001b[39m model(X)\n\u001b[1;32m      <a href='vscode-notebook-cell:/Users/maizer/1.%20Dev/3.%20Git/GitHub/python/Implement-ANN-using-Pytorch/1.%20Tutorial/1.%20Basic_torch/LEARN-THE-BASICS/4.%20Build%20Model/Build%20Model.ipynb#ch0000005?line=4'>5</a>\u001b[0m \u001b[39m# pred_probab = nn.Softmax(dim=1)(logits)\u001b[39;00m\n\u001b[1;32m      <a href='vscode-notebook-cell:/Users/maizer/1.%20Dev/3.%20Git/GitHub/python/Implement-ANN-using-Pytorch/1.%20Tutorial/1.%20Basic_torch/LEARN-THE-BASICS/4.%20Build%20Model/Build%20Model.ipynb#ch0000005?line=5'>6</a>\u001b[0m pred_probab \u001b[39m=\u001b[39m nn\u001b[39m.\u001b[39mSoftmax(dim\u001b[39m=\u001b[39m\u001b[39m1\u001b[39m)\n",
      "\u001b[0;31mTypeError\u001b[0m: 'NoneType' object is not callable"
     ]
    }
   ],
   "source": [
    "X = torch.rand(1, 28, 28, device=device)\n",
    "logits = model(X)\n",
    "\n",
    "# pred_probab = nn.Softmax(dim=1)(logits)\n",
    "pred_probab = nn.Softmax(dim=1)\n",
    "pred_probab = pred_probab(logits)\n",
    "y_pred = pred_probab.argmax(1)\n",
    "print(f\"Predicted: {y_pred}\")"
   ]
  },
  {
   "cell_type": "code",
   "execution_count": null,
   "metadata": {},
   "outputs": [],
   "source": []
  }
 ],
 "metadata": {
  "kernelspec": {
   "display_name": "Python 3.8.13 ('pytorch')",
   "language": "python",
   "name": "python3"
  },
  "language_info": {
   "codemirror_mode": {
    "name": "ipython",
    "version": 3
   },
   "file_extension": ".py",
   "mimetype": "text/x-python",
   "name": "python",
   "nbconvert_exporter": "python",
   "pygments_lexer": "ipython3",
   "version": "3.8.13"
  },
  "orig_nbformat": 4,
  "vscode": {
   "interpreter": {
    "hash": "d8e0e1919a95824482f7c7ed5b9775f8717706ba4fd6cb589a6d66ba4fe99650"
   }
  }
 },
 "nbformat": 4,
 "nbformat_minor": 2
}

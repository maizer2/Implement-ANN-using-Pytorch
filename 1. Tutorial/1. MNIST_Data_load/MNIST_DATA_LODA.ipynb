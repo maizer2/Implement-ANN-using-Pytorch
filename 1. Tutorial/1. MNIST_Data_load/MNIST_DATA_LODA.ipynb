{
 "cells": [
  {
   "cell_type": "code",
   "execution_count": 20,
   "metadata": {},
   "outputs": [],
   "source": [
    "# https://pytorch.org/tutorials/beginner/nn_tutorial.html#mnist-data-setup\n",
    "\n",
    "from pathlib import Path\n",
    "import requests\n",
    "\n",
    "\n",
    "PATH = Path(\"../../0. DataSet/1. MNIST/\")\n",
    "\n",
    "PATH.mkdir(parents=True, exist_ok=True)\n",
    "\n",
    "URL = \"https://github.com/pytorch/tutorials/raw/master/_static/\"\n",
    "FILENAME = \"mnist.pkl.gz\"\n",
    "\n",
    "if not (PATH / FILENAME).exists():\n",
    "        content = requests.get(URL + FILENAME).content\n",
    "        (PATH / FILENAME).open(\"wb\").write(content)"
   ]
  },
  {
   "cell_type": "code",
   "execution_count": 23,
   "metadata": {},
   "outputs": [
    {
     "ename": "ModuleNotFoundError",
     "evalue": "No module named 'numpy'",
     "output_type": "error",
     "traceback": [
      "\u001b[1;31m---------------------------------------------------------------------------\u001b[0m",
      "\u001b[1;31mModuleNotFoundError\u001b[0m                       Traceback (most recent call last)",
      "\u001b[1;32mc:\\1. Dev\\3. Git\\1. Github\\1. Python\\Implement-ANN-using-Pytorch\\1. Tutorial\\1. MNIST_Data_load\\MNIST_DATA_LODA.ipynb Cell 2'\u001b[0m in \u001b[0;36m<cell line: 2>\u001b[1;34m()\u001b[0m\n\u001b[0;32m      <a href='vscode-notebook-cell:/c%3A/1.%20Dev/3.%20Git/1.%20Github/1.%20Python/Implement-ANN-using-Pytorch/1.%20Tutorial/1.%20MNIST_Data_load/MNIST_DATA_LODA.ipynb#ch0000007?line=0'>1</a>\u001b[0m \u001b[39mimport\u001b[39;00m \u001b[39mpickle\u001b[39;00m\n\u001b[1;32m----> <a href='vscode-notebook-cell:/c%3A/1.%20Dev/3.%20Git/1.%20Github/1.%20Python/Implement-ANN-using-Pytorch/1.%20Tutorial/1.%20MNIST_Data_load/MNIST_DATA_LODA.ipynb#ch0000007?line=1'>2</a>\u001b[0m \u001b[39mimport\u001b[39;00m \u001b[39mnumpy\u001b[39;00m\n\u001b[0;32m      <a href='vscode-notebook-cell:/c%3A/1.%20Dev/3.%20Git/1.%20Github/1.%20Python/Implement-ANN-using-Pytorch/1.%20Tutorial/1.%20MNIST_Data_load/MNIST_DATA_LODA.ipynb#ch0000007?line=2'>3</a>\u001b[0m \u001b[39mimport\u001b[39;00m \u001b[39mgzip\u001b[39;00m\n\u001b[0;32m      <a href='vscode-notebook-cell:/c%3A/1.%20Dev/3.%20Git/1.%20Github/1.%20Python/Implement-ANN-using-Pytorch/1.%20Tutorial/1.%20MNIST_Data_load/MNIST_DATA_LODA.ipynb#ch0000007?line=4'>5</a>\u001b[0m \u001b[39mwith\u001b[39;00m gzip\u001b[39m.\u001b[39mopen((PATH \u001b[39m/\u001b[39m FILENAME)\u001b[39m.\u001b[39mas_posix(), \u001b[39m\"\u001b[39m\u001b[39mrb\u001b[39m\u001b[39m\"\u001b[39m) \u001b[39mas\u001b[39;00m f:\n",
      "\u001b[1;31mModuleNotFoundError\u001b[0m: No module named 'numpy'"
     ]
    }
   ],
   "source": [
    "import pickle\n",
    "import numpy\n",
    "import gzip\n",
    "\n",
    "with gzip.open((PATH / FILENAME).as_posix(), \"rb\") as f:\n",
    "    ((x_train, y_train), (x, valid, y_valid), _) = pickle.load(f, encoding=\"latin-1\")"
   ]
  }
 ],
 "metadata": {
  "kernelspec": {
   "display_name": "Python 3.10.4 64-bit",
   "language": "python",
   "name": "python3"
  },
  "language_info": {
   "codemirror_mode": {
    "name": "ipython",
    "version": 3
   },
   "file_extension": ".py",
   "mimetype": "text/x-python",
   "name": "python",
   "nbconvert_exporter": "python",
   "pygments_lexer": "ipython3",
   "version": "3.10.4"
  },
  "orig_nbformat": 4,
  "vscode": {
   "interpreter": {
    "hash": "15742063dff90899775b493266c17bd09d7dbb52d1b2d1602887f4d8601de803"
   }
  }
 },
 "nbformat": 4,
 "nbformat_minor": 2
}

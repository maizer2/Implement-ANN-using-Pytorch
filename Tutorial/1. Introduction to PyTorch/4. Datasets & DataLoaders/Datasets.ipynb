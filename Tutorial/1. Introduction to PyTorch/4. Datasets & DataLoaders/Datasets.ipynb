{
 "cells": [
  {
   "cell_type": "code",
   "execution_count": 1,
   "metadata": {},
   "outputs": [
    {
     "ename": "ModuleNotFoundError",
     "evalue": "No module named 'lmdb'",
     "output_type": "error",
     "traceback": [
      "\u001b[1;31m---------------------------------------------------------------------------\u001b[0m",
      "\u001b[1;31mModuleNotFoundError\u001b[0m                       Traceback (most recent call last)",
      "\u001b[1;32mc:\\3. GitRepo\\1. Python\\Implement-ANN-using-Pytorch\\1. Tutorial\\1. Introduction to PyTorch\\4. Datasets & DataLoaders\\Datasets.ipynb 셀 1\u001b[0m in \u001b[0;36m<cell line: 6>\u001b[1;34m()\u001b[0m\n\u001b[0;32m      <a href='vscode-notebook-cell:/c%3A/3.%20GitRepo/1.%20Python/Implement-ANN-using-Pytorch/1.%20Tutorial/1.%20Introduction%20to%20PyTorch/4.%20Datasets%20%26%20DataLoaders/Datasets.ipynb#W0sZmlsZQ%3D%3D?line=2'>3</a>\u001b[0m \u001b[39mimport\u001b[39;00m \u001b[39mtorchvision\u001b[39;00m\n\u001b[0;32m      <a href='vscode-notebook-cell:/c%3A/3.%20GitRepo/1.%20Python/Implement-ANN-using-Pytorch/1.%20Tutorial/1.%20Introduction%20to%20PyTorch/4.%20Datasets%20%26%20DataLoaders/Datasets.ipynb#W0sZmlsZQ%3D%3D?line=4'>5</a>\u001b[0m \u001b[39mimport\u001b[39;00m \u001b[39mmatplotlib\u001b[39;00m\u001b[39m.\u001b[39;00m\u001b[39mpyplot\u001b[39;00m \u001b[39mas\u001b[39;00m \u001b[39mplt\u001b[39;00m\n\u001b[1;32m----> <a href='vscode-notebook-cell:/c%3A/3.%20GitRepo/1.%20Python/Implement-ANN-using-Pytorch/1.%20Tutorial/1.%20Introduction%20to%20PyTorch/4.%20Datasets%20%26%20DataLoaders/Datasets.ipynb#W0sZmlsZQ%3D%3D?line=5'>6</a>\u001b[0m \u001b[39mimport\u001b[39;00m \u001b[39mlmdb\u001b[39;00m\n",
      "\u001b[1;31mModuleNotFoundError\u001b[0m: No module named 'lmdb'"
     ]
    }
   ],
   "source": [
    "import torch\n",
    "from torch.utils.data import Dataset\n",
    "import torchvision\n",
    "\n",
    "import matplotlib.pyplot as plt\n",
    "import lmdb"
   ]
  },
  {
   "cell_type": "code",
   "execution_count": 10,
   "metadata": {},
   "outputs": [
    {
     "ename": "ModuleNotFoundError",
     "evalue": "No module named 'lmdb'",
     "output_type": "error",
     "traceback": [
      "\u001b[1;31m---------------------------------------------------------------------------\u001b[0m",
      "\u001b[1;31mModuleNotFoundError\u001b[0m                       Traceback (most recent call last)",
      "\u001b[1;32mc:\\3. GitRepo\\1. Python\\Implement-ANN-using-Pytorch\\1. Tutorial\\1. Introduction to PyTorch\\4. Datasets & DataLoaders\\Datasets.ipynb 셀 2\u001b[0m in \u001b[0;36m<cell line: 3>\u001b[1;34m()\u001b[0m\n\u001b[0;32m      <a href='vscode-notebook-cell:/c%3A/3.%20GitRepo/1.%20Python/Implement-ANN-using-Pytorch/1.%20Tutorial/1.%20Introduction%20to%20PyTorch/4.%20Datasets%20%26%20DataLoaders/Datasets.ipynb#W1sZmlsZQ%3D%3D?line=4'>5</a>\u001b[0m     \u001b[39mcontinue\u001b[39;00m\n\u001b[0;32m      <a href='vscode-notebook-cell:/c%3A/3.%20GitRepo/1.%20Python/Implement-ANN-using-Pytorch/1.%20Tutorial/1.%20Introduction%20to%20PyTorch/4.%20Datasets%20%26%20DataLoaders/Datasets.ipynb#W1sZmlsZQ%3D%3D?line=5'>6</a>\u001b[0m \u001b[39melse\u001b[39;00m:\n\u001b[1;32m----> <a href='vscode-notebook-cell:/c%3A/3.%20GitRepo/1.%20Python/Implement-ANN-using-Pytorch/1.%20Tutorial/1.%20Introduction%20to%20PyTorch/4.%20Datasets%20%26%20DataLoaders/Datasets.ipynb#W1sZmlsZQ%3D%3D?line=6'>7</a>\u001b[0m     \u001b[39mgetattr\u001b[39;49m(torchvision\u001b[39m.\u001b[39;49mdatasets, dataset)(\n\u001b[0;32m      <a href='vscode-notebook-cell:/c%3A/3.%20GitRepo/1.%20Python/Implement-ANN-using-Pytorch/1.%20Tutorial/1.%20Introduction%20to%20PyTorch/4.%20Datasets%20%26%20DataLoaders/Datasets.ipynb#W1sZmlsZQ%3D%3D?line=7'>8</a>\u001b[0m     root\u001b[39m=\u001b[39;49mdataset_dir \u001b[39m+\u001b[39;49m dataset \u001b[39m+\u001b[39;49m \u001b[39m\"\u001b[39;49m\u001b[39m/Train\u001b[39;49m\u001b[39m\"\u001b[39;49m\n\u001b[0;32m      <a href='vscode-notebook-cell:/c%3A/3.%20GitRepo/1.%20Python/Implement-ANN-using-Pytorch/1.%20Tutorial/1.%20Introduction%20to%20PyTorch/4.%20Datasets%20%26%20DataLoaders/Datasets.ipynb#W1sZmlsZQ%3D%3D?line=8'>9</a>\u001b[0m     )\n",
      "File \u001b[1;32mc:\\Users\\maizer\\.conda\\envs\\DCGAN\\lib\\site-packages\\torchvision\\datasets\\lsun.py:85\u001b[0m, in \u001b[0;36mLSUN.__init__\u001b[1;34m(self, root, classes, transform, target_transform)\u001b[0m\n\u001b[0;32m     83\u001b[0m \u001b[39mself\u001b[39m\u001b[39m.\u001b[39mdbs \u001b[39m=\u001b[39m []\n\u001b[0;32m     84\u001b[0m \u001b[39mfor\u001b[39;00m c \u001b[39min\u001b[39;00m \u001b[39mself\u001b[39m\u001b[39m.\u001b[39mclasses:\n\u001b[1;32m---> 85\u001b[0m     \u001b[39mself\u001b[39m\u001b[39m.\u001b[39mdbs\u001b[39m.\u001b[39mappend(LSUNClass(root\u001b[39m=\u001b[39;49mos\u001b[39m.\u001b[39;49mpath\u001b[39m.\u001b[39;49mjoin(root, \u001b[39mf\u001b[39;49m\u001b[39m\"\u001b[39;49m\u001b[39m{\u001b[39;49;00mc\u001b[39m}\u001b[39;49;00m\u001b[39m_lmdb\u001b[39;49m\u001b[39m\"\u001b[39;49m), transform\u001b[39m=\u001b[39;49mtransform))\n\u001b[0;32m     87\u001b[0m \u001b[39mself\u001b[39m\u001b[39m.\u001b[39mindices \u001b[39m=\u001b[39m []\n\u001b[0;32m     88\u001b[0m count \u001b[39m=\u001b[39m \u001b[39m0\u001b[39m\n",
      "File \u001b[1;32mc:\\Users\\maizer\\.conda\\envs\\DCGAN\\lib\\site-packages\\torchvision\\datasets\\lsun.py:18\u001b[0m, in \u001b[0;36mLSUNClass.__init__\u001b[1;34m(self, root, transform, target_transform)\u001b[0m\n\u001b[0;32m     15\u001b[0m \u001b[39mdef\u001b[39;00m \u001b[39m__init__\u001b[39m(\n\u001b[0;32m     16\u001b[0m     \u001b[39mself\u001b[39m, root: \u001b[39mstr\u001b[39m, transform: Optional[Callable] \u001b[39m=\u001b[39m \u001b[39mNone\u001b[39;00m, target_transform: Optional[Callable] \u001b[39m=\u001b[39m \u001b[39mNone\u001b[39;00m\n\u001b[0;32m     17\u001b[0m ) \u001b[39m-\u001b[39m\u001b[39m>\u001b[39m \u001b[39mNone\u001b[39;00m:\n\u001b[1;32m---> 18\u001b[0m     \u001b[39mimport\u001b[39;00m \u001b[39mlmdb\u001b[39;00m\n\u001b[0;32m     20\u001b[0m     \u001b[39msuper\u001b[39m()\u001b[39m.\u001b[39m\u001b[39m__init__\u001b[39m(root, transform\u001b[39m=\u001b[39mtransform, target_transform\u001b[39m=\u001b[39mtarget_transform)\n\u001b[0;32m     22\u001b[0m     \u001b[39mself\u001b[39m\u001b[39m.\u001b[39menv \u001b[39m=\u001b[39m lmdb\u001b[39m.\u001b[39mopen(root, max_readers\u001b[39m=\u001b[39m\u001b[39m1\u001b[39m, readonly\u001b[39m=\u001b[39m\u001b[39mTrue\u001b[39;00m, lock\u001b[39m=\u001b[39m\u001b[39mFalse\u001b[39;00m, readahead\u001b[39m=\u001b[39m\u001b[39mFalse\u001b[39;00m, meminit\u001b[39m=\u001b[39m\u001b[39mFalse\u001b[39;00m)\n",
      "\u001b[1;31mModuleNotFoundError\u001b[0m: No module named 'lmdb'"
     ]
    }
   ],
   "source": [
    "dataset_dir = \"C:/3. GitRepo/0. DataSet/\"\n",
    "\n",
    "for dataset in torchvision.datasets.__all__:\n",
    "    if dataset == \"DatasetFolder\" and dataset == \"ImageFolder\" and dataset == \"VisionDataset\":\n",
    "        continue\n",
    "    else:\n",
    "        getattr(torchvision.datasets, dataset)(\n",
    "        root=dataset_dir + dataset + \"/Train\"\n",
    "        )\n",
    "\n",
    "        # torchvision.datasets.__dict__[dataset](\n",
    "        # root=dataset_dir + dataset + \"/Test\",\n",
    "        # download=True)"
   ]
  }
 ],
 "metadata": {
  "kernelspec": {
   "display_name": "Python 3.10.4 ('DCGAN')",
   "language": "python",
   "name": "python3"
  },
  "language_info": {
   "codemirror_mode": {
    "name": "ipython",
    "version": 3
   },
   "file_extension": ".py",
   "mimetype": "text/x-python",
   "name": "python",
   "nbconvert_exporter": "python",
   "pygments_lexer": "ipython3",
   "version": "3.10.4"
  },
  "orig_nbformat": 4,
  "vscode": {
   "interpreter": {
    "hash": "f72c6314eea1653a59c4d598864b5b25faee3faba7d262d2b70488c604597778"
   }
  }
 },
 "nbformat": 4,
 "nbformat_minor": 2
}
